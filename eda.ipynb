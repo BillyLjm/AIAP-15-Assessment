{
 "cells": [
  {
   "cell_type": "markdown",
   "id": "9d224e04-2c2a-4bee-bae7-2962f8af21ce",
   "metadata": {},
   "source": [
    "# AIAP Batch 15 Technical Assessment\n",
    "*written by Billy Lim Jun Ming*"
   ]
  },
  {
   "cell_type": "markdown",
   "id": "aec91a1d-d96d-4dd8-861b-87e1abcd9234",
   "metadata": {},
   "source": [
    "## Setup"
   ]
  },
  {
   "cell_type": "code",
   "execution_count": 1,
   "id": "14680ad6-403d-45c8-984b-2d226a2ade5d",
   "metadata": {},
   "outputs": [],
   "source": [
    "import numpy as np\n",
    "import pandas as pd\n",
    "import matplotlib.pyplot as plt\n",
    "import seaborn as sns\n",
    "import sqlite3"
   ]
  },
  {
   "cell_type": "code",
   "execution_count": 2,
   "id": "12079890-8c88-450b-9d86-9fd80d0de5b8",
   "metadata": {},
   "outputs": [
    {
     "name": "stdout",
     "output_type": "stream",
     "text": [
      "   index  Gender Date of Birth         Source of Traffic  \\\n",
      "0      0    None    05/10/1973  Direct - Company Website   \n",
      "1      1  Female          None   Indirect - Social Media   \n",
      "2      2  Female    22/07/1998  Indirect - Search Engine   \n",
      "3      3  Female    01/05/1970  Direct - Company Website   \n",
      "4      4    Male    07/01/1960  Direct - Company Website   \n",
      "\n",
      "   Onboard Wifi Service  Embarkation/Disembarkation time convenient  \\\n",
      "0    A little important                                         3.0   \n",
      "1  Not at all important                                         4.0   \n",
      "2                  None                                         3.0   \n",
      "3        Very important                                         4.0   \n",
      "4    Somewhat important                                         4.0   \n",
      "\n",
      "   Ease of Online booking  Gate location          Logging  \\\n",
      "0                     5.0            3.0  01/01/2023 0:00   \n",
      "1                     1.0            NaN  01/01/2023 0:01   \n",
      "2                     0.0            5.0  01/01/2023 0:02   \n",
      "3                     4.0            4.0  01/01/2023 0:05   \n",
      "4                     2.0            NaN  01/01/2023 0:06   \n",
      "\n",
      "  Onboard Dining Service  Online Check-in  Cabin Comfort  \\\n",
      "0         Very important              2.0            2.0   \n",
      "1         Very important              NaN            4.0   \n",
      "2                   None              NaN            5.0   \n",
      "3     Somewhat important              4.0            4.0   \n",
      "4   Not at all important              2.0            NaN   \n",
      "\n",
      "  Onboard Entertainment  Cabin service  Baggage handling  \\\n",
      "0    A little important            2.0               2.0   \n",
      "1                  None            2.0               3.0   \n",
      "2   Extremely important            2.0               1.0   \n",
      "3                  None            NaN               NaN   \n",
      "4  Not at all important            3.0               NaN   \n",
      "\n",
      "   Port Check-in Service  Onboard Service  Cleanliness  Ext_Intcode  \n",
      "0                    4.0              2.0          3.0  LB446RWOOZI  \n",
      "1                    4.0              4.0          4.0  LB138HKBECM  \n",
      "2                    2.0              3.0          NaN  BL713UHBAAN  \n",
      "3                    3.0              2.0          4.0  LB243DMKCFL  \n",
      "4                    5.0              2.0          NaN  LB218CFLOBS  \n"
     ]
    }
   ],
   "source": [
    "# read pre data\n",
    "con_pre = sqlite3.connect(\"data/cruise_pre.db\")\n",
    "cur_pre = con_pre.execute(\"SELECT * FROM cruise_pre\")\n",
    "\n",
    "# print head of database\n",
    "res = con_pre.execute(\"SELECT * FROM cruise_pre LIMIT 5\")\n",
    "print(pd.DataFrame(data=res, columns=[i[0] for i in cur_pre.description]))"
   ]
  },
  {
   "cell_type": "code",
   "execution_count": 3,
   "id": "a71825a7-e133-405f-9cd3-913a439eefbc",
   "metadata": {},
   "outputs": [
    {
     "name": "stdout",
     "output_type": "stream",
     "text": [
      "   index Cruise Name Ticket Type Cruise Distance  Ext_Intcode  WiFi  Dining  \\\n",
      "0      0   Blastoise        None         3567 KM  LB446RWOOZI   1.0       1   \n",
      "1      1   Blastoise      Deluxe          672 KM  LB138HKBECM   NaN       0   \n",
      "2      2      IAPRAS      Deluxe         1167 KM  BL713UHBAAN   NaN       0   \n",
      "3      3      Lapras      Deluxe          280 KM  LB243DMKCFL   NaN       0   \n",
      "4      4      Lapras    Standard      1145 Miles  LB218CFLOBS   NaN       1   \n",
      "\n",
      "   Entertainment  \n",
      "0            1.0  \n",
      "1            1.0  \n",
      "2            0.0  \n",
      "3            1.0  \n",
      "4            NaN  \n"
     ]
    }
   ],
   "source": [
    "# read post_data\n",
    "con_post = sqlite3.connect(\"data/cruise_post.db\")\n",
    "cur_post = con_post.execute(\"SELECT * FROM cruise_post\")\n",
    "\n",
    "# print head of database\n",
    "res = con_post.execute(\"SELECT * FROM cruise_post LIMIT 5\")\n",
    "print(pd.DataFrame(data=res, columns=[i[0] for i in cur_post.description]))"
   ]
  }
 ],
 "metadata": {
  "kernelspec": {
   "display_name": "aiap",
   "language": "python",
   "name": "aiap"
  },
  "language_info": {
   "codemirror_mode": {
    "name": "ipython",
    "version": 3
   },
   "file_extension": ".py",
   "mimetype": "text/x-python",
   "name": "python",
   "nbconvert_exporter": "python",
   "pygments_lexer": "ipython3",
   "version": "3.11.2"
  }
 },
 "nbformat": 4,
 "nbformat_minor": 5
}
